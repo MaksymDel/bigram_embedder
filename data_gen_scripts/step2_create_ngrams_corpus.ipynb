{
 "cells": [
  {
   "cell_type": "markdown",
   "metadata": {},
   "source": [
    "# Step 2: Concatenate some words in the corpus into bigrams"
   ]
  },
  {
   "cell_type": "markdown",
   "metadata": {},
   "source": [
    "## Set up"
   ]
  },
  {
   "cell_type": "code",
   "execution_count": 1,
   "metadata": {},
   "outputs": [],
   "source": [
    "# paths\n",
    "PATH_DATA_FOLDER = \"../data/\"\n",
    "PATH_WORDS_CORPUS = PATH_DATA_FOLDER + \"fil9\"\n",
    "PATH_BIGRAMS_LIKELIHOOD_RATIO = PATH_DATA_FOLDER + \"bigrams_likelihood_ratio.pkl\"\n",
    "PATH_BIGRAMS_RAW_FREQ = PATH_DATA_FOLDER + \"bigrams_raw_freq.pkl\""
   ]
  },
  {
   "cell_type": "code",
   "execution_count": 2,
   "metadata": {},
   "outputs": [],
   "source": [
    "# parameters\n",
    "CONCAT_PROBABILITY_THREASHOLD = 0.3 # probability of concatenation 2 words into bigram"
   ]
  },
  {
   "cell_type": "code",
   "execution_count": null,
   "metadata": {},
   "outputs": [],
   "source": []
  },
  {
   "cell_type": "code",
   "execution_count": 3,
   "metadata": {},
   "outputs": [],
   "source": [
    "import pickle\n",
    "import random"
   ]
  },
  {
   "cell_type": "code",
   "execution_count": 15,
   "metadata": {},
   "outputs": [],
   "source": [
    "random.seed(a=123, version=2)"
   ]
  },
  {
   "cell_type": "code",
   "execution_count": 16,
   "metadata": {},
   "outputs": [],
   "source": [
    "# load files\n",
    "with open(PATH_BIGRAMS_LIKELIHOOD_RATIO, 'rb') as f:\n",
    "    bigrams_likelihood_ratio = pickle.load(f)\n",
    "\n",
    "with open(PATH_BIGRAMS_RAW_FREQ, 'rb') as f:\n",
    "    bigrams_raw_freq = pickle.load(f)"
   ]
  },
  {
   "cell_type": "code",
   "execution_count": 18,
   "metadata": {},
   "outputs": [
    {
     "name": "stdout",
     "output_type": "stream",
     "text": [
      "CPU times: user 1.6 s, sys: 604 ms, total: 2.2 s\n",
      "Wall time: 2.2 s\n"
     ]
    }
   ],
   "source": [
    "%%time\n",
    "with open(PATH_WORDS_CORPUS, 'r') as f:\n",
    "    corpus = f.read()"
   ]
  },
  {
   "cell_type": "code",
   "execution_count": 19,
   "metadata": {},
   "outputs": [],
   "source": [
    "corpus = corpus.split()"
   ]
  },
  {
   "cell_type": "markdown",
   "metadata": {},
   "source": [
    "## Transform and save corpora"
   ]
  },
  {
   "cell_type": "code",
   "execution_count": 20,
   "metadata": {},
   "outputs": [],
   "source": [
    "corpus_len = len(corpus)"
   ]
  },
  {
   "cell_type": "code",
   "execution_count": 21,
   "metadata": {},
   "outputs": [
    {
     "name": "stdout",
     "output_type": "stream",
     "text": [
      "124301826\n"
     ]
    }
   ],
   "source": [
    "print(corpus_len)"
   ]
  },
  {
   "cell_type": "code",
   "execution_count": 24,
   "metadata": {},
   "outputs": [],
   "source": [
    "def transform_corpus(bigrams_set, corpus, corpus_len):    \n",
    "    transformed_corpus = []\n",
    "    num_bigrams = 0\n",
    "    num_unigrams = 0\n",
    "    i = 0\n",
    "    while i < corpus_len - 1:\n",
    "        \n",
    "        potential_bigram = (corpus[i], corpus[i+1])\n",
    "        if (random.random() > CONCAT_PROBABILITY_THREASHOLD) and (potential_bigram in bigrams_set):\n",
    "            transformed_corpus.append('_'.join(potential_bigram))\n",
    "            i += 1\n",
    "            num_bigrams += 1\n",
    "        else:\n",
    "            transformed_corpus.append(corpus[i])\n",
    "            num_unigrams += 1\n",
    "        i += 1\n",
    "        \n",
    "        if (num_bigrams % 5000000 == 0):\n",
    "            print(num_bigrams, 'bigrams concatenated...')\n",
    "        \n",
    "    return (transformed_corpus, num_bigrams, num_unigrams)"
   ]
  },
  {
   "cell_type": "code",
   "execution_count": 25,
   "metadata": {},
   "outputs": [],
   "source": [
    "bigrams_likelihood_ratio = set(bigrams_likelihood_ratio)\n",
    "bigrams_raw_freq = set(bigrams_raw_freq)"
   ]
  },
  {
   "cell_type": "code",
   "execution_count": 26,
   "metadata": {},
   "outputs": [
    {
     "name": "stdout",
     "output_type": "stream",
     "text": [
      "0 bigrams concatenated...\n",
      "0 bigrams concatenated...\n",
      "5000000 bigrams concatenated...\n",
      "10000000 bigrams concatenated...\n",
      "15000000 bigrams concatenated...\n",
      "15000000 bigrams concatenated...\n",
      "20000000 bigrams concatenated...\n",
      "20000000 bigrams concatenated...\n",
      "25000000 bigrams concatenated...\n",
      "25000000 bigrams concatenated...\n",
      "25000000 bigrams concatenated...\n",
      "25000000 bigrams concatenated...\n",
      "25000000 bigrams concatenated...\n",
      "25000000 bigrams concatenated...\n",
      "30000000 bigrams concatenated...\n",
      "35000000 bigrams concatenated...\n",
      "40000000 bigrams concatenated...\n",
      "CPU times: user 1min 9s, sys: 6.89 s, total: 1min 16s\n",
      "Wall time: 1min 36s\n"
     ]
    }
   ],
   "source": [
    "%%time\n",
    "transformed, num_bi, num_uni = transform_corpus(bigrams_likelihood_ratio, corpus, corpus_len)"
   ]
  },
  {
   "cell_type": "code",
   "execution_count": 27,
   "metadata": {},
   "outputs": [
    {
     "name": "stdout",
     "output_type": "stream",
     "text": [
      "124301826\n"
     ]
    }
   ],
   "source": [
    "print(corpus_len)"
   ]
  },
  {
   "cell_type": "code",
   "execution_count": 28,
   "metadata": {},
   "outputs": [
    {
     "name": "stdout",
     "output_type": "stream",
     "text": [
      "82372004 41929821 40442183 82372004\n"
     ]
    }
   ],
   "source": [
    "print(len(transformed), num_bi, num_uni, num_bi+num_uni)"
   ]
  },
  {
   "cell_type": "code",
   "execution_count": 29,
   "metadata": {},
   "outputs": [],
   "source": [
    "def save_transformed(corpus, bigrams_extraction_method_name):\n",
    "    with open(PATH_DATA_FOLDER + 'corpus_transformed_' + bigrams_extraction_method_name + '.pkl', 'wb') as f:\n",
    "        pickle.dump(corpus, f)\n",
    "\n",
    "    with open(PATH_DATA_FOLDER + 'corpus_transformed_' + bigrams_extraction_method_name + '.txt', 'w') as f:\n",
    "        f.write(\" \".join(corpus))\n",
    "        "
   ]
  },
  {
   "cell_type": "code",
   "execution_count": 30,
   "metadata": {},
   "outputs": [],
   "source": [
    "save_transformed(transformed, 'likelihood_ratio')"
   ]
  },
  {
   "cell_type": "markdown",
   "metadata": {},
   "source": [
    "Raw freq"
   ]
  },
  {
   "cell_type": "code",
   "execution_count": 31,
   "metadata": {},
   "outputs": [
    {
     "name": "stdout",
     "output_type": "stream",
     "text": [
      "0 bigrams concatenated...\n",
      "0 bigrams concatenated...\n",
      "0 bigrams concatenated...\n",
      "5000000 bigrams concatenated...\n",
      "10000000 bigrams concatenated...\n",
      "10000000 bigrams concatenated...\n",
      "15000000 bigrams concatenated...\n",
      "15000000 bigrams concatenated...\n",
      "15000000 bigrams concatenated...\n",
      "20000000 bigrams concatenated...\n",
      "25000000 bigrams concatenated...\n",
      "30000000 bigrams concatenated...\n",
      "30000000 bigrams concatenated...\n",
      "35000000 bigrams concatenated...\n",
      "40000000 bigrams concatenated...\n",
      "40000000 bigrams concatenated...\n",
      "40000000 bigrams concatenated...\n",
      "40000000 bigrams concatenated...\n",
      "40000000 bigrams concatenated...\n",
      "82376761 41925064 40451697\n",
      "CPU times: user 1min 49s, sys: 19.8 s, total: 2min 9s\n",
      "Wall time: 3min 12s\n"
     ]
    }
   ],
   "source": [
    "%%time\n",
    "transformed, num_bi, num_uni = transform_corpus(bigrams_raw_freq, corpus, corpus_len)\n",
    "print(len(transformed), num_bi, num_uni)\n",
    "save_transformed(transformed, 'raw_freq')"
   ]
  },
  {
   "cell_type": "code",
   "execution_count": null,
   "metadata": {},
   "outputs": [],
   "source": []
  }
 ],
 "metadata": {
  "kernelspec": {
   "display_name": "Python [conda env:allennmt]",
   "language": "python",
   "name": "conda-env-allennmt-py"
  },
  "language_info": {
   "codemirror_mode": {
    "name": "ipython",
    "version": 3
   },
   "file_extension": ".py",
   "mimetype": "text/x-python",
   "name": "python",
   "nbconvert_exporter": "python",
   "pygments_lexer": "ipython3",
   "version": "3.6.4"
  }
 },
 "nbformat": 4,
 "nbformat_minor": 2
}
