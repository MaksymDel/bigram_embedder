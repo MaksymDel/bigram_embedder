{
 "cells": [
  {
   "cell_type": "markdown",
   "metadata": {},
   "source": [
    "# Step 1: Extract top bigrams from the corpus"
   ]
  },
  {
   "cell_type": "markdown",
   "metadata": {},
   "source": [
    "## Set up"
   ]
  },
  {
   "cell_type": "code",
   "execution_count": 1,
   "metadata": {},
   "outputs": [],
   "source": [
    "# paths\n",
    "PATH_DATA_FOLDER = \"../data/\"\n",
    "PATH_WORDS_CORPUS = PATH_DATA_FOLDER + \"fil9\""
   ]
  },
  {
   "cell_type": "code",
   "execution_count": 35,
   "metadata": {},
   "outputs": [],
   "source": [
    "# constants\n",
    "BIGRAM_MIN_FREQ = 15"
   ]
  },
  {
   "cell_type": "code",
   "execution_count": 2,
   "metadata": {},
   "outputs": [],
   "source": [
    "import pickle\n",
    "\n",
    "import nltk\n",
    "from nltk.collocations import *\n",
    "from nltk.corpus import PlaintextCorpusReader"
   ]
  },
  {
   "cell_type": "code",
   "execution_count": 3,
   "metadata": {},
   "outputs": [
    {
     "name": "stdout",
     "output_type": "stream",
     "text": [
      "CPU times: user 171 ms, sys: 846 ms, total: 1.02 s\n",
      "Wall time: 1.7 s\n"
     ]
    }
   ],
   "source": [
    "%%time\n",
    "with open(PATH_WORDS_CORPUS, 'r') as f:\n",
    "    corpus = f.read()"
   ]
  },
  {
   "cell_type": "code",
   "execution_count": 4,
   "metadata": {},
   "outputs": [
    {
     "name": "stdout",
     "output_type": "stream",
     "text": [
      "CPU times: user 4.68 s, sys: 2.16 s, total: 6.85 s\n",
      "Wall time: 6.81 s\n"
     ]
    }
   ],
   "source": [
    "%%time\n",
    "corpus = corpus.split()"
   ]
  },
  {
   "cell_type": "code",
   "execution_count": 5,
   "metadata": {},
   "outputs": [
    {
     "name": "stdout",
     "output_type": "stream",
     "text": [
      "124301826\n"
     ]
    }
   ],
   "source": [
    "print(len(corpus))"
   ]
  },
  {
   "cell_type": "markdown",
   "metadata": {},
   "source": [
    "## Score and save bigrams"
   ]
  },
  {
   "cell_type": "code",
   "execution_count": 6,
   "metadata": {},
   "outputs": [
    {
     "name": "stdout",
     "output_type": "stream",
     "text": [
      "CPU times: user 5min 50s, sys: 1.18 s, total: 5min 51s\n",
      "Wall time: 5min 51s\n"
     ]
    }
   ],
   "source": [
    "%%time\n",
    "finder = BigramCollocationFinder.from_words(corpus)"
   ]
  },
  {
   "cell_type": "code",
   "execution_count": 7,
   "metadata": {},
   "outputs": [],
   "source": [
    "finder.apply_freq_filter(BIGRAM_MIN_FREQ)"
   ]
  },
  {
   "cell_type": "code",
   "execution_count": 24,
   "metadata": {},
   "outputs": [],
   "source": [
    "def save_bigrams(scoring_method_name, bigrams_list):\n",
    "    bigrams_list = [t[0] for t in bigrams_list]\n",
    "    with open(PATH_DATA_FOLDER + '/bigrams_' + scoring_method_name + '.pkl', 'wb') as f:\n",
    "        pickle.dump(bigrams_list, f)\n",
    "    \n",
    "    with open(PATH_DATA_FOLDER + 'bigrams_' + scoring_method_name + '.txt', 'w') as f:\n",
    "        f.write(\"\\n\".join([\" \".join(t) for t in bigrams_list]))"
   ]
  },
  {
   "cell_type": "code",
   "execution_count": 25,
   "metadata": {},
   "outputs": [],
   "source": [
    "bigram_measures = nltk.collocations.BigramAssocMeasures()"
   ]
  },
  {
   "cell_type": "code",
   "execution_count": 26,
   "metadata": {},
   "outputs": [
    {
     "name": "stdout",
     "output_type": "stream",
     "text": [
      "CPU times: user 4.47 s, sys: 56 ms, total: 4.53 s\n",
      "Wall time: 4.52 s\n"
     ]
    }
   ],
   "source": [
    "# %%time\n",
    "# scored_pmi = finder.score_ngrams(bigram_measures.pmi)\n",
    "# save_bigrams('pmi', scored_pmi)"
   ]
  },
  {
   "cell_type": "code",
   "execution_count": 27,
   "metadata": {},
   "outputs": [
    {
     "name": "stdout",
     "output_type": "stream",
     "text": [
      "CPU times: user 6.07 s, sys: 56 ms, total: 6.13 s\n",
      "Wall time: 6.13 s\n"
     ]
    }
   ],
   "source": [
    "%%time\n",
    "scored_likelihood_ratio = finder.score_ngrams(bigram_measures.likelihood_ratio)\n",
    "save_bigrams('likelihood_ratio', scored_likelihood_ratio)"
   ]
  },
  {
   "cell_type": "code",
   "execution_count": 28,
   "metadata": {},
   "outputs": [
    {
     "name": "stdout",
     "output_type": "stream",
     "text": [
      "CPU times: user 5.12 s, sys: 67.9 ms, total: 5.19 s\n",
      "Wall time: 5.18 s\n"
     ]
    }
   ],
   "source": [
    "%%time\n",
    "scored_raw_freq = finder.score_ngrams(bigram_measures.raw_freq)\n",
    "save_bigrams('raw_freq', scored_raw_freq)"
   ]
  },
  {
   "cell_type": "code",
   "execution_count": 29,
   "metadata": {},
   "outputs": [
    {
     "name": "stdout",
     "output_type": "stream",
     "text": [
      "CPU times: user 4.53 s, sys: 56 ms, total: 4.58 s\n",
      "Wall time: 4.58 s\n"
     ]
    }
   ],
   "source": [
    "# %%time\n",
    "# scored_poisson_stirling = finder.score_ngrams(bigram_measures.poisson_stirling)\n",
    "# save_bigrams('poisson_stirling', scored_poisson_stirling)"
   ]
  },
  {
   "cell_type": "code",
   "execution_count": 30,
   "metadata": {},
   "outputs": [
    {
     "name": "stdout",
     "output_type": "stream",
     "text": [
      "CPU times: user 5.14 s, sys: 95.8 ms, total: 5.23 s\n",
      "Wall time: 5.36 s\n"
     ]
    }
   ],
   "source": [
    "# %%time\n",
    "# scored_chi_sq = finder.score_ngrams(bigram_measures.chi_sq)\n",
    "# save_bigrams('chi_sq', scored_chi_sq)"
   ]
  },
  {
   "cell_type": "code",
   "execution_count": 31,
   "metadata": {},
   "outputs": [
    {
     "name": "stdout",
     "output_type": "stream",
     "text": [
      "CPU times: user 5.55 s, sys: 84.1 ms, total: 5.63 s\n",
      "Wall time: 5.62 s\n"
     ]
    }
   ],
   "source": [
    "# %%time\n",
    "# scored_dice = finder.score_ngrams(bigram_measures.dice)\n",
    "# save_bigrams('dice', scored_dice)"
   ]
  },
  {
   "cell_type": "code",
   "execution_count": 32,
   "metadata": {},
   "outputs": [
    {
     "name": "stdout",
     "output_type": "stream",
     "text": [
      "CPU times: user 4.24 s, sys: 80 ms, total: 4.32 s\n",
      "Wall time: 4.32 s\n"
     ]
    }
   ],
   "source": [
    "# %%time\n",
    "# scored_jaccard = finder.score_ngrams(bigram_measures.jaccard)\n",
    "# save_bigrams('jaccard', scored_jaccard)"
   ]
  },
  {
   "cell_type": "code",
   "execution_count": 33,
   "metadata": {},
   "outputs": [
    {
     "name": "stdout",
     "output_type": "stream",
     "text": [
      "602733\n"
     ]
    }
   ],
   "source": [
    "print(len(scored_likelihood_ratio))"
   ]
  },
  {
   "cell_type": "markdown",
   "metadata": {},
   "source": [
    "#### 'likelihood_ratio' and 'raw_freq' look more suitable for our purposes; other scores strongly prefer non-compositional bigrams so might be usefull in future work on stable expressions search"
   ]
  }
 ],
 "metadata": {
  "kernelspec": {
   "display_name": "Python [conda env:allennmt]",
   "language": "python",
   "name": "conda-env-allennmt-py"
  },
  "language_info": {
   "codemirror_mode": {
    "name": "ipython",
    "version": 3
   },
   "file_extension": ".py",
   "mimetype": "text/x-python",
   "name": "python",
   "nbconvert_exporter": "python",
   "pygments_lexer": "ipython3",
   "version": "3.6.4"
  }
 },
 "nbformat": 4,
 "nbformat_minor": 2
}
