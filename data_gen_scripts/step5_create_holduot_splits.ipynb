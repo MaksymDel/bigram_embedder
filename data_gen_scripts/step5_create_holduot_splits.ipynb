{
 "cells": [
  {
   "cell_type": "markdown",
   "metadata": {},
   "source": [
    "# Create train, dev, test splits"
   ]
  },
  {
   "cell_type": "markdown",
   "metadata": {},
   "source": [
    "## Set up"
   ]
  },
  {
   "cell_type": "code",
   "execution_count": 18,
   "metadata": {},
   "outputs": [],
   "source": [
    "# paths\n",
    "PATH_DATA_STEP4 = \"../data/step4_wordpairs_bigrams_vec_data/\"\n",
    "PATH_WORDPAIR_VECS = PATH_DATA_STEP4 + \"data_wordpair_vecs_likelihood_ratio-100-0.05.pkl\"\n",
    "PATH_BIGRAM_VECS = PATH_DATA_STEP4 + \"data_bigram_vecs_likelihood_ratio-100-0.05.pkl\"\n",
    "PATH_BIGRAM_TYPES = PATH_DATA_STEP4 + \"data_bigram_types_likelihood_ratio-100-0.05.pkl\"\n",
    "PATH_DATA_OUT = \"../data/step5_holduot_splits/\""
   ]
  },
  {
   "cell_type": "code",
   "execution_count": 2,
   "metadata": {},
   "outputs": [],
   "source": [
    "# laod data\n",
    "import pickle"
   ]
  },
  {
   "cell_type": "code",
   "execution_count": 3,
   "metadata": {},
   "outputs": [],
   "source": [
    "with open(PATH_BIGRAM_TYPES, 'rb') as f:\n",
    "    bigram_types = pickle.load(f)\n",
    "    \n",
    "with open(PATH_BIGRAM_VECS, 'rb') as f:\n",
    "    bigram_vecs = pickle.load(f)\n",
    "    \n",
    "with open(PATH_WORDPAIR_VECS, 'rb') as f:\n",
    "    wordpair_vecs = pickle.load(f)"
   ]
  },
  {
   "cell_type": "markdown",
   "metadata": {},
   "source": [
    "## Split"
   ]
  },
  {
   "cell_type": "code",
   "execution_count": 4,
   "metadata": {},
   "outputs": [],
   "source": [
    "num_all = len(bigram_types)"
   ]
  },
  {
   "cell_type": "code",
   "execution_count": 5,
   "metadata": {},
   "outputs": [],
   "source": [
    "num_dev = 1500\n",
    "num_test = 2500\n",
    "num_train = num_all - (num_dev + num_test)"
   ]
  },
  {
   "cell_type": "code",
   "execution_count": 6,
   "metadata": {},
   "outputs": [
    {
     "name": "stdout",
     "output_type": "stream",
     "text": [
      "we will have 586558 train, 1500 dev, and 2500 test examples\n"
     ]
    }
   ],
   "source": [
    "print('we will have', num_train, 'train,', num_dev, 'dev, and', num_test, 'test examples')"
   ]
  },
  {
   "cell_type": "code",
   "execution_count": 7,
   "metadata": {},
   "outputs": [],
   "source": [
    "import random"
   ]
  },
  {
   "cell_type": "code",
   "execution_count": 8,
   "metadata": {},
   "outputs": [],
   "source": [
    "all_shuffled = list(zip(bigram_types, bigram_vecs, wordpair_vecs))\n",
    "random.shuffle(all_shuffled)"
   ]
  },
  {
   "cell_type": "code",
   "execution_count": 9,
   "metadata": {},
   "outputs": [],
   "source": [
    "bigram_types_shuffled, bigram_vecs_shuffled, wordpair_vecs_shuffled = zip(*all_shuffled)"
   ]
  },
  {
   "cell_type": "code",
   "execution_count": 15,
   "metadata": {},
   "outputs": [],
   "source": [
    "train_all_shuffled = all_shuffled[:num_train]\n",
    "dev_all_shuffled = all_shuffled[num_train:num_train+num_dev]\n",
    "test_all_shuffled = all_shuffled[num_train+num_dev:]"
   ]
  },
  {
   "cell_type": "code",
   "execution_count": 17,
   "metadata": {},
   "outputs": [],
   "source": [
    "assert len(train_all_shuffled) == num_train\n",
    "assert len(dev_all_shuffled) == num_dev\n",
    "assert len(test_all_shuffled) == num_test"
   ]
  },
  {
   "cell_type": "markdown",
   "metadata": {},
   "source": [
    "## Save"
   ]
  },
  {
   "cell_type": "code",
   "execution_count": 20,
   "metadata": {},
   "outputs": [],
   "source": [
    "with open(PATH_DATA_OUT + 'train_all_shuffled.pkl', 'wb') as f:\n",
    "    pickle.dump(train_all_shuffled, f)\n",
    "    \n",
    "with open(PATH_DATA_OUT + 'dev_all_shuffled.pkl', 'wb') as f:\n",
    "    pickle.dump(dev_all_shuffled, f)\n",
    "    \n",
    "with open(PATH_DATA_OUT + 'test_all_shuffled.pkl', 'wb') as f:\n",
    "    pickle.dump(test_all_shuffled, f)"
   ]
  }
 ],
 "metadata": {
  "kernelspec": {
   "display_name": "Python [conda env:allennmt]",
   "language": "python",
   "name": "conda-env-allennmt-py"
  },
  "language_info": {
   "codemirror_mode": {
    "name": "ipython",
    "version": 3
   },
   "file_extension": ".py",
   "mimetype": "text/x-python",
   "name": "python",
   "nbconvert_exporter": "python",
   "pygments_lexer": "ipython3",
   "version": "3.6.4"
  }
 },
 "nbformat": 4,
 "nbformat_minor": 2
}
